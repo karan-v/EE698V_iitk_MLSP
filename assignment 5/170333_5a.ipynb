{
 "cells": [
  {
   "cell_type": "markdown",
   "metadata": {},
   "source": [
    "# Model the Data\n",
    "Given a set of scalar data, you can model it with a suitable pdf. This exercise will help you learn the following:\n",
    "- How would you choose the best model to fit the given data?\n",
    "- How would you estimate the model parameters from the given data?\n",
    "- Given a model, how do you sample new data from it?\n",
    "\n",
    "Note: You are allowed to use only numpy and matplotlib libraries. No ML library."
   ]
  },
  {
   "cell_type": "code",
   "execution_count": 1,
   "metadata": {},
   "outputs": [],
   "source": [
    "import numpy as np\n",
    "np.random.seed(111)"
   ]
  },
  {
   "cell_type": "code",
   "execution_count": 2,
   "metadata": {},
   "outputs": [],
   "source": [
    "def data2gaussian(S):\n",
    "    '''\n",
    "    Return optimal parameters - (mu,sigma)\n",
    "    Inputs:\n",
    "        S: np array of shape (Ns,). These are samples of a random variable.\n",
    "    Outputs:\n",
    "        mu: float\n",
    "        sigma: float\n",
    "    '''\n",
    "\n",
    "    ### WRITE YOUR CODE HERE - 5 MARKS\n",
    "    N = len(S)\n",
    "    sample_sum=0\n",
    "    for i in range(N):\n",
    "        sample_sum+=S[i]\n",
    "    mu = sample_sum*(1.0/N)\n",
    "    sample_sq_sum=0\n",
    "    for i in range(N):\n",
    "        sample_sq_sum+=(S[i]-mu)*(S[i]-mu)\n",
    "    sigma = np.power(sample_sq_sum*(1.0/N),0.5)\n",
    "    return mu, sigma"
   ]
  },
  {
   "cell_type": "code",
   "execution_count": 3,
   "metadata": {},
   "outputs": [
    {
     "name": "stdout",
     "output_type": "stream",
     "text": [
      "0.06000000000000001 0.19595917942265426\n",
      "Test passed 👍\n"
     ]
    }
   ],
   "source": [
    "def test_data2gaussian(): # checks formatting only\n",
    "    S = [0.1,-0.2,0.4,0,0]\n",
    "    mu, sigma = data2gaussian(S)\n",
    "    print(mu,sigma)\n",
    "    assert isinstance(mu, (int, float))\n",
    "    assert isinstance(sigma, (int, float))\n",
    "    print('Test passed', '\\U0001F44D')\n",
    "if __name__==\"__main__\":\n",
    "    test_data2gaussian()"
   ]
  },
  {
   "cell_type": "code",
   "execution_count": 4,
   "metadata": {},
   "outputs": [],
   "source": [
    "def data2laplacian(S):\n",
    "    '''\n",
    "    Return optimal parameters - (mu,b). See https://en.wikipedia.org/wiki/Laplace_distribution\n",
    "    Inputs:\n",
    "        S: np array of shape (Ns,). These are samples of a random variable.\n",
    "    Outputs:\n",
    "        mu: float\n",
    "        b: float\n",
    "    '''\n",
    "\n",
    "    ### WRITE YOUR CODE HERE - 5 MARKS\n",
    "    mu = np.median(S)\n",
    "    sample_abs_sum=0\n",
    "    for i in range(len(S)):\n",
    "        sample_abs_sum+=np.abs(S[i]-mu)\n",
    "    b = (2.0/len(S))*sample_abs_sum\n",
    "\n",
    "    return mu, b"
   ]
  },
  {
   "cell_type": "code",
   "execution_count": 5,
   "metadata": {},
   "outputs": [
    {
     "name": "stdout",
     "output_type": "stream",
     "text": [
      "0.0 0.28\n",
      "Test passed 👍\n"
     ]
    }
   ],
   "source": [
    "def test_data2laplacian(): # checks formatting only\n",
    "    S = [0.1,-0.2,0.4,0,0]\n",
    "    mu, b = data2laplacian(S)\n",
    "    print(mu,b)\n",
    "    assert isinstance(mu, (int, float))\n",
    "    assert isinstance(b, (int, float))\n",
    "    print('Test passed', '\\U0001F44D')\n",
    "if __name__==\"__main__\":\n",
    "    test_data2laplacian()"
   ]
  },
  {
   "cell_type": "code",
   "execution_count": 6,
   "metadata": {},
   "outputs": [],
   "source": [
    "def data2uniform(S):\n",
    "    '''\n",
    "    Return optimal parameters - (a,b)\n",
    "    Inputs:\n",
    "        S: np array of shape (Ns,). These are samples of a random variable.\n",
    "    Outputs:\n",
    "        a: float\n",
    "        b: float\n",
    "    '''\n",
    "\n",
    "    ### WRITE YOUR CODE HERE - 5 MARKS\n",
    "    a = np.amin(S,axis=0)\n",
    "    b = np.amax(S,axis=0)\n",
    "    return a, b"
   ]
  },
  {
   "cell_type": "code",
   "execution_count": 7,
   "metadata": {},
   "outputs": [
    {
     "name": "stdout",
     "output_type": "stream",
     "text": [
      "-0.2 0.4\n",
      "Test passed 👍\n"
     ]
    }
   ],
   "source": [
    "def test_data2uniform(): # checks formatting only\n",
    "    S = [0.1,-0.2,0.4,0,0]\n",
    "    a, b = data2uniform(S)\n",
    "    print(a,b)\n",
    "    assert isinstance(a, (int, float))\n",
    "    assert isinstance(b, (int, float))\n",
    "    print('Test passed', '\\U0001F44D')\n",
    "if __name__==\"__main__\":\n",
    "    test_data2uniform()"
   ]
  },
  {
   "cell_type": "code",
   "execution_count": 8,
   "metadata": {},
   "outputs": [],
   "source": [
    "def data2model(S):\n",
    "    '''\n",
    "    Inputs:\n",
    "        S: np array of shape (Ns,). These are scalar samples of a random variable.\n",
    "    Outputs:\n",
    "        modelName: return one out of these - 'gaussian', 'laplacian', or \n",
    "                   'uniform' which best models the data\n",
    "    '''\n",
    "\n",
    "    ### WRITE YOUR CODE HERE - 10 MARKS\n",
    "    S1 = np.sort(S,axis=0)\n",
    "    p1 = []\n",
    "    samples = []\n",
    "    i=0\n",
    "    while(i<len(S1)):\n",
    "        samples.append(S1[i])\n",
    "        cnt=1\n",
    "        if(i+1<len(S1) and S1[i]==S1[i+1]):\n",
    "            cnt+=1\n",
    "            i+=1\n",
    "        p1.append(cnt*(1.0/len(S1)))\n",
    "        i+=1\n",
    "    a,b = data2uniform(S)\n",
    "    uniform = []\n",
    "    for i in range(len(p1)):\n",
    "        uniform.append(1.0/(b-a))\n",
    "    mu,sigma=data2gaussian(S)\n",
    "    gaussian = (1.0/np.power(2*np.pi*sigma*sigma,0.5))*np.exp(-(0.5/(sigma*sigma))*((np.asarray(samples)-mu)**2))\n",
    "    mu,b = data2laplacian(S)\n",
    "    laplacian = (0.5/b)*np.exp(-(1.0/b)*np.abs(samples-mu))\n",
    "\n",
    "    #using kldivergence as the metric for best model prediction\n",
    "    loss = np.inf\n",
    "    modelName=''\n",
    "    kldivergence=0\n",
    "    \n",
    "    for i in range(len(p1)):\n",
    "        kldivergence+=p1[i]*np.log10(p1[i]*(1.0/uniform[i]))\n",
    "\n",
    "    if(kldivergence<loss):\n",
    "        loss = kldivergence\n",
    "        modelName='uniform'\n",
    "    \n",
    "    kldivergence=0\n",
    "    \n",
    "    for i in range(len(p1)):\n",
    "        kldivergence+=p1[i]*np.log10(p1[i]*(1.0/gaussian[i]))\n",
    "    \n",
    "    if(kldivergence<loss):\n",
    "        loss = kldivergence\n",
    "        modelName='gaussian'\n",
    "    \n",
    "    kldivergence=0\n",
    "    \n",
    "    for i in range(len(p1)):\n",
    "        kldivergence+=p1[i]*np.log10(p1[i]*(1.0/laplacian[i]))\n",
    "    \n",
    "    if(kldivergence<loss):\n",
    "        loss = kldivergence\n",
    "        modelName='laplacian'\n",
    "    return modelName"
   ]
  },
  {
   "cell_type": "code",
   "execution_count": 9,
   "metadata": {},
   "outputs": [
    {
     "name": "stdout",
     "output_type": "stream",
     "text": [
      "Test passed 👍\n"
     ]
    }
   ],
   "source": [
    "def test_data2model(): # checks formatting only\n",
    "    S = [0.1,-0.2,0.4,0,0]\n",
    "    modelName = data2model(S)\n",
    "    assert modelName in ['gaussian', 'laplacian', 'uniform']\n",
    "    print('Test passed', '\\U0001F44D')\n",
    "if __name__==\"__main__\":\n",
    "    test_data2model()"
   ]
  },
  {
   "cell_type": "code",
   "execution_count": 10,
   "metadata": {},
   "outputs": [],
   "source": [
    "def sampleGMM(pi, mu, sigma, Ns=1):\n",
    "    '''\n",
    "    Inputs:\n",
    "        pi: np.array of shape (K,), p(z_k)\n",
    "        mu: np.array of shape (K,), mu of kth gaussian\n",
    "        sigma: np.array of shape (K,), sigma of kth gaussian\n",
    "        Ns: int, number of samples\n",
    "    Outputs:\n",
    "        S: np.array of shape (Ns,), samples from the GMM\n",
    "    '''\n",
    "\n",
    "    ### WRITE YOUR CODE HERE - 10 MARKS\n",
    "    mixture_idx = np.random.choice(len(pi), size=Ns, replace=True, p=pi)\n",
    "    S=[]\n",
    "    for i in range(Ns):\n",
    "        s = np.random.normal(mu[mixture_idx[i]],sigma[mixture_idx[i]],1)\n",
    "        S.append(s[0])\n",
    "    S=np.asarray(S)\n",
    "    S=S.reshape(-1)\n",
    "    return S"
   ]
  },
  {
   "cell_type": "code",
   "execution_count": 11,
   "metadata": {},
   "outputs": [
    {
     "name": "stdout",
     "output_type": "stream",
     "text": [
      "Test passed 👍\n"
     ]
    }
   ],
   "source": [
    "def test_sampleGMM(): # checks formatting only\n",
    "    pi = [0.3,0.7]\n",
    "    mu = [-1.1, 1.3]\n",
    "    sigma = [1.5, 0.4]\n",
    "    Ns = 5\n",
    "    S = sampleGMM(pi, mu, sigma, Ns)\n",
    "    assert S.shape==(5,)\n",
    "    print('Test passed', '\\U0001F44D')\n",
    "if __name__==\"__main__\":\n",
    "    test_sampleGMM()"
   ]
  },
  {
   "cell_type": "code",
   "execution_count": 12,
   "metadata": {},
   "outputs": [],
   "source": [
    "def make_spd_matrix(K,Na):\n",
    "    cov = np.zeros((K,Na,Na))\n",
    "    for i in range(K):\n",
    "        A = np.random.randn(Na,Na)\n",
    "        A = 0.5*(A+A.T)\n",
    "        A = A + Na*np.eye(Na,dtype=np.float64)\n",
    "        cov[i]=A\n",
    "    return cov\n",
    "\n",
    "def data2GMM(S, K):\n",
    "    '''\n",
    "    Return optimal parameters - (pi,mu,sigma)\n",
    "    Inputs:\n",
    "        S: np array of shape (Ns,Na). These are samples of a random variable. Na can be 1, 2 or 3\n",
    "    Outputs:\n",
    "        pi: np array of shape (K,)\n",
    "        mu: np array of shape (K,Na)\n",
    "        sigma: np array of shape (K,Na,Na)\n",
    "    '''\n",
    "\n",
    "    ### WRITE YOUR CODE HERE - 15 MARKS\n",
    "    pi = np.ones(K, dtype=np.float64)*(1.0/K)\n",
    "    mu = np.random.choice(S.flatten(), (K,S.shape[1]))\n",
    "    sigma = make_spd_matrix(K,S.shape[1])\n",
    "    gamma = np.zeros((S.shape[0],K))\n",
    "    N = S.shape[0]\n",
    "    D = S.shape[1]\n",
    "    i=0\n",
    "    log_likeli=0\n",
    "    for n in range(N):\n",
    "        sums=0\n",
    "        for k in range(K):\n",
    "            sums+=pi[k]*(1.0/(np.linalg.det(sigma[k])*np.power(2*np.pi,D/2)))*np.exp(-0.5*np.dot(S[n]-mu[k],np.dot(np.linalg.inv(sigma[k]),(S[n]-mu[k]).T)))\n",
    "        log_likeli+=np.log(sums)\n",
    "    \n",
    "    prev=log_likeli\n",
    "    eps=1e-8\n",
    "    tol=1e-2\n",
    "    while(True):\n",
    "        \n",
    "        #gamma updation\n",
    "        for n in range(N):\n",
    "            gammas=0\n",
    "            for k in range(K):\n",
    "                gammas+=pi[k]*(1.0/(np.linalg.det(sigma[k])*np.power(2*np.pi,D/2)))*np.exp(-0.5*np.dot(S[n]-mu[k],np.dot(np.linalg.inv(sigma[k]),(S[n]-mu[k]).T)))\n",
    "            for k in range(K):\n",
    "                gamma[n][k] =(1.0/(gammas+eps))*(pi[k]*(1.0/(np.linalg.det(sigma[k])*np.power(2*np.pi,D/2)))*np.exp(-0.5*np.dot(S[n]-mu[k],np.dot(np.linalg.inv(sigma[k]),(S[n]-mu[k]).T))))\n",
    "                \n",
    "        #mean updation\n",
    "        for k in range(K):\n",
    "            sums=np.zeros((1,D))\n",
    "            Nk=0\n",
    "            for n in range(N):\n",
    "                sums+=gamma[n][k]*S[n]\n",
    "                Nk+=gamma[n][k]\n",
    "            mu[k] = sums*(1.0/(Nk+eps))\n",
    "            \n",
    "        #sigma updation\n",
    "        for k in range(K):\n",
    "            sums=np.zeros((D,D))\n",
    "            Nk=0\n",
    "            for n in range(N):\n",
    "                d = np.reshape(S[n]-mu[k],(1,3))\n",
    "                sums+=gamma[n][k]*np.dot(d.T,d)\n",
    "                Nk+=gamma[n][k]\n",
    "            sigma[k]=sums*(1.0/(Nk+eps))\n",
    "            \n",
    "        #pi updation\n",
    "        for k in range(K):\n",
    "            Nk=0\n",
    "            for n in range(N):\n",
    "                Nk+=gamma[n][k]\n",
    "            pi[k]=Nk*(1.0/N)\n",
    "            \n",
    "        #evaluate the log likelihood\n",
    "        log_likeli=0\n",
    "        for n in range(N):\n",
    "            sums=0\n",
    "            for k in range(K):\n",
    "                sums+=pi[k]*(1.0/(np.linalg.det(sigma[k])*np.power(2*np.pi,D/2)))*np.exp(-0.5*np.dot(S[n]-mu[k],np.dot(np.linalg.inv(sigma[k]),(S[n]-mu[k]).T)))\n",
    "            log_likeli+=np.log(sums)\n",
    "        print(log_likeli) \n",
    "        if(np.abs(prev-log_likeli)<tol):\n",
    "            break\n",
    "        prev=log_likeli\n",
    "        \n",
    "    pi=pi.reshape(-1)\n",
    "    return pi, mu, sigma"
   ]
  },
  {
   "cell_type": "code",
   "execution_count": 15,
   "metadata": {},
   "outputs": [
    {
     "name": "stdout",
     "output_type": "stream",
     "text": [
      "35.564564418952074\n",
      "35.591571650893364\n",
      "35.74093097964408\n",
      "36.496745452893364\n",
      "38.51629400304229\n",
      "40.390356129091366\n",
      "41.91353967023679\n",
      "43.81489348806791\n",
      "46.311618058345594\n",
      "52.5381769159801\n",
      "57.31304550980013\n",
      "59.52885056800288\n",
      "59.61021311546592\n",
      "59.60497099363863\n",
      "Test passed 👍\n"
     ]
    }
   ],
   "source": [
    "def test_data2GMM(): # checks formatting only\n",
    "    S = np.random.random((10,3))\n",
    "    pi, mu, sigma = data2GMM(S,2)\n",
    "    assert pi.shape==(2,)\n",
    "    assert mu.shape==(2,3)\n",
    "    assert sigma.shape==(2,3,3)\n",
    "    print('Test passed', '\\U0001F44D')\n",
    "if __name__==\"__main__\":\n",
    "    test_data2GMM()"
   ]
  },
  {
   "cell_type": "code",
   "execution_count": null,
   "metadata": {},
   "outputs": [],
   "source": []
  },
  {
   "cell_type": "code",
   "execution_count": null,
   "metadata": {},
   "outputs": [],
   "source": []
  }
 ],
 "metadata": {
  "kernelspec": {
   "display_name": "Python 3",
   "language": "python",
   "name": "python3"
  },
  "language_info": {
   "codemirror_mode": {
    "name": "ipython",
    "version": 3
   },
   "file_extension": ".py",
   "mimetype": "text/x-python",
   "name": "python",
   "nbconvert_exporter": "python",
   "pygments_lexer": "ipython3",
   "version": "3.7.3"
  }
 },
 "nbformat": 4,
 "nbformat_minor": 2
}